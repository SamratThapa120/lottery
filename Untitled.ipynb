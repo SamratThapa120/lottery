{
 "cells": [
  {
   "cell_type": "code",
   "execution_count": 6,
   "metadata": {},
   "outputs": [],
   "source": [
    "import pandas as pd"
   ]
  },
  {
   "cell_type": "code",
   "execution_count": 4,
   "metadata": {},
   "outputs": [],
   "source": [
    "lott_f = pd.ExcelFile('./LotteryProject/All_Lotteries_Results.xlsx')\n",
    "lotts =lott_f.sheet_names \n",
    "lotts.remove('Export Summary')\n",
    "lotts.remove('lot')\n",
    "del lott_f\n",
    "\n",
    "lottery_files = {}\n",
    "for lot in lotts:\n",
    "    lottery_files[lot] = pd.read_excel('./LotteryProject/All_Lotteries_Results.xlsx',sheet_name=lot)\n",
    "    lottery_files[lot].to_csv('./LotteryProject/'+lot+\".csv\")"
   ]
  },
  {
   "cell_type": "code",
   "execution_count": 11,
   "metadata": {},
   "outputs": [],
   "source": [
    "for lot in lotts:\n",
    "    lottery_files[lot].to_csv(lot+\".csv\")    "
   ]
  },
  {
   "cell_type": "code",
   "execution_count": null,
   "metadata": {},
   "outputs": [],
   "source": [
    "plan = pd.ExcelFile('./LotteryProject/Planets_eng.xlsx')\n",
    "plan.to"
   ]
  }
 ],
 "metadata": {
  "kernelspec": {
   "display_name": "Python 3",
   "language": "python",
   "name": "python3"
  },
  "language_info": {
   "codemirror_mode": {
    "name": "ipython",
    "version": 3
   },
   "file_extension": ".py",
   "mimetype": "text/x-python",
   "name": "python",
   "nbconvert_exporter": "python",
   "pygments_lexer": "ipython3",
   "version": "3.7.6"
  }
 },
 "nbformat": 4,
 "nbformat_minor": 4
}
